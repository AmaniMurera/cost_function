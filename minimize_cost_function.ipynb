{
 "cells": [
  {
   "cell_type": "code",
   "execution_count": 17,
   "id": "5638da38",
   "metadata": {},
   "outputs": [],
   "source": [
    "import numpy as np\n",
    "import tensorflow as tf"
   ]
  },
  {
   "cell_type": "code",
   "execution_count": 18,
   "id": "ff65b5ed",
   "metadata": {},
   "outputs": [],
   "source": [
    "#create w parameter and initialize it to 0, data type of w parameter is float32 \n",
    "w = tf.Variable(0, dtype = tf.float32)\n",
    "#define optimization algorithm and set learning rate to 0.1\n",
    "optimizer = tf.keras.optimizers.Adam(0.1)\n",
    "# define train_step function to loop over\n",
    "def train_step():\n",
    " # in tensorflow you only need to implement forward props\n",
    " # the framework will figure out how to do back prop and compute gradient descent\n",
    " with tf.GradientTape() as tape:\n",
    "  #define the cost function\n",
    "  cost = w ** 2 - 10 * w + 25\n",
    " trainable_variables = [w]\n",
    " grads = tape.gradient(cost, trainable_variables )\n",
    " optimizer.apply_gradients(zip(grads, trainable_variables))"
   ]
  },
  {
   "cell_type": "code",
   "execution_count": 19,
   "id": "dc419beb",
   "metadata": {},
   "outputs": [
    {
     "name": "stdout",
     "output_type": "stream",
     "text": [
      "<tf.Variable 'Variable:0' shape=() dtype=float32, numpy=0.0>\n"
     ]
    }
   ],
   "source": [
    "print(w)"
   ]
  },
  {
   "cell_type": "code",
   "execution_count": 20,
   "id": "bea67477",
   "metadata": {},
   "outputs": [
    {
     "name": "stdout",
     "output_type": "stream",
     "text": [
      "<tf.Variable 'Variable:0' shape=() dtype=float32, numpy=0.09999931>\n"
     ]
    }
   ],
   "source": [
    "train_step()\n",
    "print(w)\n"
   ]
  },
  {
   "cell_type": "code",
   "execution_count": 21,
   "id": "b7231748",
   "metadata": {},
   "outputs": [
    {
     "name": "stdout",
     "output_type": "stream",
     "text": [
      "<tf.Variable 'Variable:0' shape=() dtype=float32, numpy=5.000001>\n"
     ]
    }
   ],
   "source": [
    "for i in range(1000):\n",
    "    train_step()\n",
    "print(w)"
   ]
  },
  {
   "cell_type": "code",
   "execution_count": null,
   "id": "a7ce9bcb",
   "metadata": {},
   "outputs": [],
   "source": []
  }
 ],
 "metadata": {
  "kernelspec": {
   "display_name": "Python 3 (ipykernel)",
   "language": "python",
   "name": "python3"
  },
  "language_info": {
   "codemirror_mode": {
    "name": "ipython",
    "version": 3
   },
   "file_extension": ".py",
   "mimetype": "text/x-python",
   "name": "python",
   "nbconvert_exporter": "python",
   "pygments_lexer": "ipython3",
   "version": "3.9.12"
  }
 },
 "nbformat": 4,
 "nbformat_minor": 5
}
